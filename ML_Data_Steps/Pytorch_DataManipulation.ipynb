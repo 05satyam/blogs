{
 "cells": [
  {
   "cell_type": "markdown",
   "metadata": {},
   "source": [
    "# This notebook containes Pytorch very basic operations needed in day2day ML, these are very few of many such operations\n",
    " \n",
    "### Two Steps: \n",
    "    - Acquire data\n",
    "    - Process Data\n",
    "### N-Dimensiona array:\n",
    "    - Also knonw as `tensors`.\n",
    "    - In Deep learning frameworks, the tensor class (ndarray in MXNet, Tensor in PyTorch and TensorFlow) resembles \n",
    "     `NumPy’s ndarray`\n",
    "    \n",
    "    ** Tensor class **\n",
    "        - Supports auto differentiation.\n",
    "        - Feverages GPUs\n",
    "        - A tensor represents a (possibly multidimensional) array of numerical values.\n",
    "        \n",
    "        ** Vector **\n",
    "        -  When only one axis is needed for the data, a tensor is called a **vector**.\n",
    "        -  When two axes are needed for the data, a tensor is called a **matrix**.\n",
    "        -  For, d>2 we call k<sup>th</sup>-order tensor."
   ]
  },
  {
   "cell_type": "code",
   "execution_count": 1,
   "metadata": {},
   "outputs": [
    {
     "name": "stdout",
     "output_type": "stream",
     "text": [
      "torch.Size([12])\n",
      "12\n",
      "12\n"
     ]
    }
   ],
   "source": [
    "#pytorch tensors\n",
    "\n",
    "import torch # import for pytorch\n",
    "x = torch.arange(12, dtype=torch.float32) # arange(n), create a vector of evenly spaced values, starting at 0 (included) and ending at n (not included). Default interval size is 1. \n",
    "print(x.shape) #gives shape of tensor\n",
    "print(x.numel()) #give total number of elements in a tensor \n",
    "X_reshape=x.reshape(3,4) #reshape the x \n",
    "print(X_reshape.numel())\n",
    "zero_tensor=torch.zeros((2, 3, 4)) #tensor with all elements= 0 and shape= (2, 3, 4) \n",
    "one_tensor=torch.ones((2, 3, 4)) #tensor with all elements= 1 and shape= (2, 3, 4) \n",
    "\n",
    "# Creates a tensor with elements drawn from a standard Gaussian (normal) distribution with mean 0 and standard deviation 1.\n",
    "rand_tensor=torch.randn(3, 4) \n",
    "normal_tensor= torch.tensor([[2, 1, 4, 3], [1, 33, 1, 5]])"
   ]
  },
  {
   "cell_type": "code",
   "execution_count": 5,
   "metadata": {},
   "outputs": [
    {
     "data": {
      "text/plain": [
       "tensor([[  0., 111.,   2.,   3.],\n",
       "        [  4.,   5.,   6.,   7.],\n",
       "        [  8.,   9.,  10.,  11.]])"
      ]
     },
     "execution_count": 5,
     "metadata": {},
     "output_type": "execute_result"
    }
   ],
   "source": [
    "#slicing in tensors x[i,j] => i(included), j(does not include)\n",
    "x[-1] #selects the last row \n",
    "x[1:3] #selects the second and third rows.\n",
    "X_reshape[0, 1] = 111 #write element to (0,1)\n",
    "X_reshape"
   ]
  },
  {
   "cell_type": "code",
   "execution_count": 6,
   "metadata": {},
   "outputs": [
    {
     "data": {
      "text/plain": [
       "(tensor([ 0.,  2., 12., 10.]),\n",
       " tensor([-2.,  4., -2.,  4.]),\n",
       " tensor([-1., -3., 35., 21.]),\n",
       " tensor([-1.0000, -3.0000,  0.7143,  2.3333]),\n",
       " tensor([-1.0000e+00,  3.3333e-01,  7.8125e+04,  3.4300e+02]))"
      ]
     },
     "execution_count": 6,
     "metadata": {},
     "output_type": "execute_result"
    }
   ],
   "source": [
    "#operations in tensors\n",
    "x = torch.tensor([-1.0, 3, 5, 7])\n",
    "y = torch.tensor([1, -1, 7, 3])\n",
    "x + y, x - y, x * y, x / y, x ** y"
   ]
  },
  {
   "cell_type": "code",
   "execution_count": 9,
   "metadata": {},
   "outputs": [
    {
     "data": {
      "text/plain": [
       "tensor([[ 0.,  1.,  2.,  3., -3.,  1.,  5.,  3.],\n",
       "        [ 4.,  5.,  6.,  7.,  1.,  7.,  5., 11.],\n",
       "        [ 8.,  9., 10., 11.,  1., 13.,  7.,  3.]])"
      ]
     },
     "execution_count": 9,
     "metadata": {},
     "output_type": "execute_result"
    }
   ],
   "source": [
    "'''\n",
    "Concatenate multiple tensors by stacking them end-to-end to form a larger one\n",
    "Steps:\n",
    "    provide a list of tensors \n",
    "    provide axis along which to concatenate\n",
    "'''\n",
    "X = torch.arange(12, dtype=torch.float32).reshape((3,4))\n",
    "Y = torch.tensor([[-3.0, 1, 5, 3], [1, 7, 5, 11], [1, 13, 7, 3]])\n",
    "torch.cat((X, Y), dim=0)\n",
    "torch.cat((X, Y), dim=1)"
   ]
  },
  {
   "cell_type": "code",
   "execution_count": 10,
   "metadata": {},
   "outputs": [
    {
     "data": {
      "text/plain": [
       "(numpy.ndarray, torch.Tensor)"
      ]
     },
     "execution_count": 10,
     "metadata": {},
     "output_type": "execute_result"
    }
   ],
   "source": [
    "#Numpy to tensor \n",
    "A = X.numpy()\n",
    "B = torch.from_numpy(A)\n",
    "type(A), type(B)"
   ]
  },
  {
   "cell_type": "code",
   "execution_count": 11,
   "metadata": {},
   "outputs": [
    {
     "data": {
      "text/plain": [
       "False"
      ]
     },
     "execution_count": 11,
     "metadata": {},
     "output_type": "execute_result"
    }
   ],
   "source": [
    "#Saving Memory with Python’s id() function : gives us the exact address of the referenced object in memory\n",
    "before = id(X_reshape)\n",
    "X_reshape = X_reshape + torch.ones(3,4)\n",
    "id(X_reshape) == before"
   ]
  }
 ],
 "metadata": {
  "kernelspec": {
   "display_name": "Python 3",
   "language": "python",
   "name": "python3"
  },
  "language_info": {
   "codemirror_mode": {
    "name": "ipython",
    "version": 3
   },
   "file_extension": ".py",
   "mimetype": "text/x-python",
   "name": "python",
   "nbconvert_exporter": "python",
   "pygments_lexer": "ipython3",
   "version": "3.10.0"
  }
 },
 "nbformat": 4,
 "nbformat_minor": 2
}
