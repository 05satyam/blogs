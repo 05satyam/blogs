{
 "cells": [
  {
   "cell_type": "markdown",
   "metadata": {},
   "source": [
    "# Data Preprocessing \n",
    "\n",
    "```\n",
    " There are several ways to manipulate data depending on need some basic one are: \n",
    "    reading-from-source -> extracting_desired_data -> data_cleaning(removing empty values or replacing empty values to mean/media/mod ect or dropping duplicates etc ect) -> converting to tensors (if needed) -> normalizing as per requirements -> visualization\n",
    "```"
   ]
  },
  {
   "cell_type": "code",
   "execution_count": null,
   "metadata": {},
   "outputs": [],
   "source": [
    "#1. Read using pandas:\n",
    "import pandas as pd\n",
    "import torch\n",
    "data = pd.read_csv('file_name.csv')\n"
   ]
  },
  {
   "cell_type": "markdown",
   "metadata": {},
   "source": [
    "For example let us suppose data is as follows:\n",
    "        col1    col2    Price\n",
    "0       NaN      NaN  127500\n",
    "1       2.0      NaN  106000\n",
    "2       4.0      s1     178100\n",
    "3       NaN      NaN  140000"
   ]
  },
  {
   "cell_type": "code",
   "execution_count": null,
   "metadata": {},
   "outputs": [],
   "source": [
    "# Celect columns either by name or  integer-location based indexing (iloc).\n",
    "\n",
    "#Step1: select required rows and column\n",
    "# (selects all rows and 0 to 2 column for inputs) and (all rows and last column for res)\n",
    "inputs, res = data.iloc[:, 0:2], data.iloc[:, 2] \n",
    "\n",
    "#Step2: fill missing data:\n",
    "inputs = inputs.fillna(inputs.mean())\n",
    "#Step 2: or Drop rows with any missing values\n",
    "inputs = data.dropna()\n",
    "#Step2: Remove duplicate rows\n",
    "inputs = inputs.drop_duplicates()\n",
    "\n",
    "#Step3: Convert to tensor:\n",
    "X = torch.tensor(inputs.to_numpy(dtype=float))\n",
    "y = torch.tensor(res.to_numpy(dtype=float))\n",
    "X, y\n",
    "\n",
    "\n",
    "#SOME MORE STEPS:\n",
    "#Normalization\n",
    "from sklearn.preprocessing import MinMaxScaler\n",
    "scaler = MinMaxScaler()\n",
    "inputs['col2'] = scaler.fit_transform(inputs[['prices']])\n",
    "\n",
    "\n",
    "#Visualization \n",
    "import matplotlib.pyplot as plt"
   ]
  },
  {
   "cell_type": "code",
   "execution_count": null,
   "metadata": {},
   "outputs": [],
   "source": []
  }
 ],
 "metadata": {
  "kernelspec": {
   "display_name": "Python 3",
   "language": "python",
   "name": "python3"
  },
  "language_info": {
   "codemirror_mode": {
    "name": "ipython",
    "version": 3
   },
   "file_extension": ".py",
   "mimetype": "text/x-python",
   "name": "python",
   "nbconvert_exporter": "python",
   "pygments_lexer": "ipython3",
   "version": "3.10.0"
  }
 },
 "nbformat": 4,
 "nbformat_minor": 2
}
